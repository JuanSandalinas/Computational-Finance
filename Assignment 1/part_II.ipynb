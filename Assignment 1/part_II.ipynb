{
 "cells": [
  {
   "cell_type": "code",
   "execution_count": 1,
   "metadata": {},
   "outputs": [],
   "source": [
    "import numpy as np\n",
    "import matplotlib.pyplot as plt\n",
    "from models.black_scholes import Black_scholes\n",
    "from models.binary_tree import Binary_Tree"
   ]
  },
  {
   "cell_type": "markdown",
   "metadata": {},
   "source": [
    "# Part II\n"
   ]
  },
  {
   "cell_type": "markdown",
   "metadata": {},
   "source": [
    "## Question 1"
   ]
  },
  {
   "cell_type": "markdown",
   "metadata": {},
   "source": [
    "1. Write a binomial tree program to approximate the price of the option. To help you get\n",
    "started, you can use the instructions, templates and hints provided in appendix B. Con-\n",
    "struct a tree with 50 steps and explicitly state your option price approximation in the\n",
    "report."
   ]
  },
  {
   "cell_type": "code",
   "execution_count": 5,
   "metadata": {},
   "outputs": [
    {
     "name": "stdout",
     "output_type": "stream",
     "text": [
      "Option price is : 11.55 $\n"
     ]
    }
   ],
   "source": [
    "vol = 0.2\n",
    "S = 100\n",
    "T = 1.\n",
    "N = 50\n",
    "r = 0.06\n",
    "K = 99\n",
    "binary = Binary_Tree(S,r,vol,T,N,K)\n",
    "print(F\"Option price is : {np.round(binary.v_tree[0,0],2)} $\")"
   ]
  },
  {
   "cell_type": "markdown",
   "metadata": {},
   "source": [
    "## Question 2"
   ]
  },
  {
   "cell_type": "markdown",
   "metadata": {},
   "source": [
    "2. Investigate how your binomial tree estimate compares to the analytical Black-Scholes value\n",
    "of the option. Do experiments for different values of the volatility. The Black-Scholes\n",
    "formula for European option prices is treated in appendix C: please read that carefully."
   ]
  },
  {
   "cell_type": "code",
   "execution_count": 6,
   "metadata": {},
   "outputs": [
    {
     "name": "stderr",
     "output_type": "stream",
     "text": [
      "c:\\Users\\joann\\OneDrive\\Escritorio\\Intro\\Computational-Finance\\Assignment 1\\models\\binary_tree.py:58: RuntimeWarning: divide by zero encountered in scalar divide\n",
      "  p= (np.exp(self.r*self.dt) - d)/(u-d)\n",
      "c:\\Users\\joann\\OneDrive\\Escritorio\\Intro\\Computational-Finance\\Assignment 1\\models\\binary_tree.py:72: RuntimeWarning: invalid value encountered in scalar add\n",
      "  v_tree[i , j ] = np.exp(-self.r*self.dt)*(p*up + (1-p)*down)\n",
      "c:\\Users\\joann\\OneDrive\\Escritorio\\Intro\\Computational-Finance\\Assignment 1\\models\\black_scholes.py:126: RuntimeWarning: divide by zero encountered in scalar divide\n",
      "  d1 = (np.log(St/self.K) +  pre_num_d1)/den_d1\n"
     ]
    }
   ],
   "source": [
    "vols = np.linspace(0,1,num = 50)\n",
    "S = 100\n",
    "T = 1.\n",
    "N = 50\n",
    "r = 0.06\n",
    "K = 99\n",
    "binary_trees = np.vectorize(Binary_Tree, excluded=['S','r','T','N','K'])(S,r,vols,T,N,K)\n",
    "black_scholes = np.vectorize(Black_scholes, excluded=['S','r','T','N','K'])(S,r,vols,T,N,K)\n",
    "v_binary_trees = np.vectorize(lambda x: x.v_tree[0,0])(binary_trees)\n",
    "v_black_scholes = np.vectorize(lambda x: x.ex_Vt[0])(black_scholes)\n",
    "plt.plot(vols,v_black_scholes, label = \"Black scholes\")\n",
    "plt.plot(vols, v_binary_trees, label = \"Binary tree\")\n",
    "plt.legend()\n",
    "plt.show()"
   ]
  },
  {
   "cell_type": "markdown",
   "metadata": {},
   "source": [
    "## Question 3"
   ]
  },
  {
   "cell_type": "markdown",
   "metadata": {},
   "source": [
    "3. Study the convergence of the method for increasing number of steps in the tree. What is\n",
    "the computational complexity of this algorithm as a function of the number of steps in the\n",
    "tree?\n"
   ]
  },
  {
   "cell_type": "code",
   "execution_count": 13,
   "metadata": {},
   "outputs": [],
   "source": [
    "vol = 0.20\n",
    "S = 100\n",
    "T = 1.\n",
    "N = np.linspace(1,300,num = 100, dtype= int)\n",
    "r = 0.06\n",
    "K = 99\n",
    "binary_trees = np.vectorize(Binary_Tree, excluded=['S','r','vol','T','K'])(S,r,vol,T,N,K)\n",
    "v_binary_trees = np.vectorize(lambda x: x.v_tree[0,0])(binary_trees)\n",
    "\n",
    "plt.plot(N, v_binary_trees, label = \"Binary tree\")\n",
    "plt.legend()\n",
    "plt.show()"
   ]
  }
 ],
 "metadata": {
  "kernelspec": {
   "display_name": "base",
   "language": "python",
   "name": "python3"
  },
  "language_info": {
   "codemirror_mode": {
    "name": "ipython",
    "version": 3
   },
   "file_extension": ".py",
   "mimetype": "text/x-python",
   "name": "python",
   "nbconvert_exporter": "python",
   "pygments_lexer": "ipython3",
   "version": "3.11.4"
  }
 },
 "nbformat": 4,
 "nbformat_minor": 2
}
