{
 "cells": [
  {
   "cell_type": "code",
   "execution_count": 1,
   "metadata": {},
   "outputs": [],
   "source": [
    "import numpy as np\n",
    "import matplotlib.pyplot as plt\n",
    "from models.black_scholes import Black_scholes\n",
    "from models.binary_tree import Binary_Tree"
   ]
  },
  {
   "cell_type": "markdown",
   "metadata": {},
   "source": [
    "## Part I"
   ]
  },
  {
   "cell_type": "markdown",
   "metadata": {},
   "source": [
    "### Question 1"
   ]
  },
  {
   "cell_type": "markdown",
   "metadata": {},
   "source": [
    "1. In theory, continuous compounding means that an account will be compounding interest\n",
    "over an infinite number of periods per year, which is continuously added into the balance.\n",
    "Prove that an amount C invested in the money-market at continuous compounding has a\n",
    "value of C × er∆t after a period ∆t."
   ]
  },
  {
   "cell_type": "markdown",
   "metadata": {},
   "source": [
    "For a period n we can write the compounding as: \n",
    "\n",
    "\\begin{equation}\n",
    "C \\left(1 + \\frac{r}{n}\\right)^{nt}\n",
    "\\end{equation}\n",
    "\n",
    "If we consider infinite steps we get ${n \\to \\infty}$:\n",
    "\\begin{equation}\n",
    "\\lim_{{n \\to \\infty}} C \\left(1 + \\frac{r}{n}\\right)^{nt}\n",
    "\\end{equation}\n",
    "In addition, we know that  $e^x$ by definition:\n",
    "\n",
    "\\begin{equation}\n",
    "    \\lim_{{n' \\to \\infty}}(1 + \\frac{x}{n'})^{n'}\n",
    "\\end{equation}\n",
    "If we consider $n' = n*t$, we get that:\n",
    "\n",
    "\\begin{equation}\n",
    "\\lim_{{n \\to \\infty}} C \\left(1 + \\frac{r*t}{n*t}\\right)^{n*t}\n",
    "\\end{equation}\n",
    "\n",
    "Thus, considering $x = r*t$ and following the definition of number e, we obtain:\n",
    "\n",
    "\\begin{equation}\n",
    "\\lim_{{n \\to \\infty}} C \\left(1 + \\frac{r*t}{n*t}\\right)^{n*t} = C*e^{r*t}\n",
    "\\end{equation}\n"
   ]
  },
  {
   "cell_type": "markdown",
   "metadata": {},
   "source": [
    "### Question 2"
   ]
  },
  {
   "cell_type": "markdown",
   "metadata": {},
   "source": [
    "2. Consider a coupon bond with a principal of e50.000, a maturity of 2 years and quarterly\n",
    "(i.e. every 3 months) coupons of e300. Assume that the money-market has a risk-free\n",
    "rate of 1.5% at continuous compounding. Calculate the fair-value of this coupon bond."
   ]
  },
  {
   "cell_type": "markdown",
   "metadata": {},
   "source": [
    "If we consider a coupon bond, and we want the fair value, we obtain the value at maturity minus the total value.\n",
    "First, we consider the initial lend with interest at time T (2 years). Following the equation:\n",
    "\\begin{equation}\n",
    "    Issued-value(T) = 50.000*e^{0.015*2} = 51522.73 eu.\n",
    "\\end{equation}\n",
    "\n",
    "Then, considering interest rates, the coupons returns, knowing that 8 coupons are issued in total every 3 months/0.25 years. The total cost can be as:\n",
    "\\begin{equation}\n",
    "    Coupons(T) = \\sum_{i=1}^{8} 300 \\cdot e^{r \\cdot (2 - 0.25 \\cdot i)}  = 6748.39 eu.\n",
    "\\end{equation}\n",
    "\n",
    "Lastly, the returned 50.000 are interest free, since they are returned at time T. So, the fair-value of the coupon bond is:\n",
    "\n",
    "\\begin{equation}\n",
    "    Fair-value = Returned-value + Coupons(T) - Issued-value\n",
    "\\end{equation}\n",
    "Subsisting:\n",
    "\n",
    "\\begin{equation}\n",
    "    Fair-value = 50.000 + 6748.39 - 52522.73 = 4225.66 eu..\n",
    "\\end{equation}"
   ]
  },
  {
   "cell_type": "markdown",
   "metadata": {},
   "source": [
    "### Question 3"
   ]
  },
  {
   "cell_type": "markdown",
   "metadata": {},
   "source": [
    "3. Use the no-arbitrage principle to argue that the forward price of a contract at time zero\n",
    "is equal to $F_o = S_o*e^{rT}$ ."
   ]
  },
  {
   "cell_type": "markdown",
   "metadata": {},
   "source": [
    "The forward price for a contract is the delivery  price that would be applicable to the contract if were negotiated today (i.e., it is the delivery price that would make the contract worth 0 exactly zero).\n",
    "\n",
    "By that definition, the forward price must be equal to the price of the Stock at time T ($S_o*e^{r*t}$) in a risk-free. \n",
    "\n",
    "If, the equality did not hold (Ej.: $F_o > S_o \\cdot e^{r \\cdot t}$), we could borrow the stock at $S_o$ and enter a short position on the forward contract. Then, at maturity, we sell the stock for $S_o \\cdot e^{r \\cdot t}$ (risk-free market) to the long position holder. The value of the forward contract will be $F_o - S_o \\cdot e^{r \\cdot t}$, thus, the contract at maturity will not be 0, and, the short position will have a profit (returns $S_o \\cdot e^{r \\cdot t}$, but gains $F_o$), being a nd arbitrage opportunity.\n"
   ]
  },
  {
   "cell_type": "markdown",
   "metadata": {},
   "source": [
    "### Question 4"
   ]
  },
  {
   "cell_type": "markdown",
   "metadata": {},
   "source": [
    "4. Draw the pay-off diagrams for both portfolios, showing the profit at maturity as a function\n",
    "of ST . Explain the figures."
   ]
  },
  {
   "cell_type": "markdown",
   "metadata": {},
   "source": []
  },
  {
   "cell_type": "markdown",
   "metadata": {},
   "source": [
    "### Question 5 (Need to revise a lot, struggling with it)"
   ]
  },
  {
   "cell_type": "markdown",
   "metadata": {},
   "source": [
    "5. Use the no-arbitrage principle to argue that for t ∈ [0, T ] the following relation, known as\n",
    "the put-call parity, must hold:\n",
    "$C_t + e^{−r(T −t)}*K = P_t + S_t$"
   ]
  },
  {
   "cell_type": "markdown",
   "metadata": {},
   "source": [
    "In case of the equality nol holding, Ej.: $C_t + e^{−r(T −t)}*K > P_t + S_t$, we could enter a put option at strike price K and borrow $S_t$.\n",
    "\n",
    "At maturity, if the call is successful, the equation takes the form of $(S_T-K) + K > S_T$. Then, the we get the inequality of $S_T>S_T$, thus, their price equality must hold"
   ]
  },
  {
   "cell_type": "markdown",
   "metadata": {},
   "source": [
    "## Part II\n"
   ]
  },
  {
   "cell_type": "markdown",
   "metadata": {},
   "source": [
    "### Question 1"
   ]
  },
  {
   "cell_type": "markdown",
   "metadata": {},
   "source": [
    "1. Write a binomial tree program to approximate the price of the option. To help you get\n",
    "started, you can use the instructions, templates and hints provided in appendix B. Con-\n",
    "struct a tree with 50 steps and explicitly state your option price approximation in the\n",
    "report."
   ]
  },
  {
   "cell_type": "code",
   "execution_count": 2,
   "metadata": {},
   "outputs": [
    {
     "name": "stdout",
     "output_type": "stream",
     "text": [
      "Option price is : 11.55 $\n"
     ]
    }
   ],
   "source": [
    "vol = 0.2\n",
    "S = 100\n",
    "T = 1.\n",
    "N = 50\n",
    "r = 0.06\n",
    "K = 99\n",
    "binary = Binary_Tree(S,r,vol,T,N,K)\n",
    "print(F\"Option price is : {np.round(binary.v_tree[0,0],2)} $\")"
   ]
  },
  {
   "cell_type": "markdown",
   "metadata": {},
   "source": [
    "### Question 2"
   ]
  },
  {
   "cell_type": "markdown",
   "metadata": {},
   "source": [
    "2. Investigate how your binomial tree estimate compares to the analytical Black-Scholes value\n",
    "of the option. Do experiments for different values of the volatility. The Black-Scholes\n",
    "formula for European option prices is treated in appendix C: please read that carefully."
   ]
  },
  {
   "cell_type": "code",
   "execution_count": 10,
   "metadata": {},
   "outputs": [
    {
     "name": "stdout",
     "output_type": "stream",
     "text": [
      "[0.         0.02040816 0.04081633 0.06122449 0.08163265 0.10204082\n",
      " 0.12244898 0.14285714 0.16326531 0.18367347 0.20408163 0.2244898\n",
      " 0.24489796 0.26530612 0.28571429 0.30612245 0.32653061 0.34693878\n",
      " 0.36734694 0.3877551  0.40816327 0.42857143 0.44897959 0.46938776\n",
      " 0.48979592 0.51020408 0.53061224 0.55102041 0.57142857 0.59183673\n",
      " 0.6122449  0.63265306 0.65306122 0.67346939 0.69387755 0.71428571\n",
      " 0.73469388 0.75510204 0.7755102  0.79591837 0.81632653 0.83673469\n",
      " 0.85714286 0.87755102 0.89795918 0.91836735 0.93877551 0.95918367\n",
      " 0.97959184 1.        ]\n"
     ]
    }
   ],
   "source": [
    "vols = np.linspace(0,1,num = 50)\n",
    "print(vols)\n",
    "S = 100\n",
    "T = 1.\n",
    "N = 50\n",
    "r = 0.06\n",
    "K = 99\n",
    "binary_trees = np.vectorize(Binary_Tree, excluded=['S','r','T','N','K'])(S,r,vols,T,N,K)\n",
    "black_scholes = np.vectorize(Black_scholes, excluded=['S','r','T','N','K'])(S,r,vols,T,N,K)\n",
    "v_binary_trees = np.vectorize(lambda x: x.v_tree[0,0])(binary_trees)\n",
    "v_black_scholes = np.vectorize(lambda x: x.ex_Vt[0])(black_scholes)\n",
    "plt.plot(vols,v_black_scholes, label = \"Black scholes\")\n",
    "plt.plot(vols, v_binary_trees, label = \"Binary tree\")\n",
    "plt.title(\"Call value\")\n",
    "plt.legend()\n",
    "plt.show()"
   ]
  },
  {
   "cell_type": "markdown",
   "metadata": {},
   "source": [
    "### Question 3"
   ]
  },
  {
   "cell_type": "markdown",
   "metadata": {},
   "source": [
    "3. Study the convergence of the method for increasing number of steps in the tree. What is\n",
    "the computational complexity of this algorithm as a function of the number of steps in the\n",
    "tree?\n"
   ]
  },
  {
   "cell_type": "code",
   "execution_count": 7,
   "metadata": {},
   "outputs": [],
   "source": [
    "vol = 0.20\n",
    "S = 100\n",
    "T = 1.\n",
    "N = np.linspace(1,300,num = 100, dtype= int)\n",
    "r = 0.06\n",
    "K = 99\n",
    "binary_trees = np.vectorize(Binary_Tree, excluded=['S','r','vol','T','K'])(S,r,vol,T,N,K)\n",
    "v_binary_trees = np.vectorize(lambda x: x.v_tree[0,0])(binary_trees)\n",
    "\n",
    "plt.plot(N, v_binary_trees, label = \"Binary tree\")\n",
    "plt.title(\"Convergence\")\n",
    "plt.legend()\n",
    "plt.show()"
   ]
  },
  {
   "cell_type": "markdown",
   "metadata": {},
   "source": [
    "### Question 4\n"
   ]
  },
  {
   "cell_type": "markdown",
   "metadata": {},
   "source": [
    "4. Compute the hedge parameter ∆ from the binomial tree model at t = 0. Compare with\n",
    "the analytical Black-Scholes delta ∆0 = N(d1). Experiment for different values of the\n",
    "volatility."
   ]
  },
  {
   "cell_type": "code",
   "execution_count": 5,
   "metadata": {},
   "outputs": [],
   "source": [
    "vols = np.linspace(0,1,num = 50)\n",
    "S = 100\n",
    "T = 1.\n",
    "N = 50\n",
    "r = 0.06\n",
    "K = 99\n",
    "\n",
    "binary_trees = np.vectorize(Binary_Tree, excluded=['S','r','T','N','K'])(S,r,vols,T,N,K)\n",
    "black_scholes = np.vectorize(Black_scholes, excluded=['S','r','T','N','K'])(S,r,vols,T,N,K)\n",
    "\n",
    "v_binary_trees = np.vectorize(lambda x: x.delta)(binary_trees)\n",
    "v_black_scholes = np.vectorize(lambda x: x.delta)(black_scholes)\n",
    "\n",
    "plt.plot(vols,v_black_scholes, label = \"Black scholes\")\n",
    "plt.plot(vols, v_binary_trees, label = \"Binary tree\")\n",
    "plt.title(\"Delta change\")\n",
    "plt.legend()\n",
    "plt.show()"
   ]
  },
  {
   "cell_type": "markdown",
   "metadata": {},
   "source": [
    "### Question 5"
   ]
  },
  {
   "cell_type": "markdown",
   "metadata": {},
   "source": []
  },
  {
   "cell_type": "markdown",
   "metadata": {},
   "source": [
    "## Question 3"
   ]
  },
  {
   "cell_type": "markdown",
   "metadata": {},
   "source": []
  }
 ],
 "metadata": {
  "kernelspec": {
   "display_name": "base",
   "language": "python",
   "name": "python3"
  },
  "language_info": {
   "codemirror_mode": {
    "name": "ipython",
    "version": 3
   },
   "file_extension": ".py",
   "mimetype": "text/x-python",
   "name": "python",
   "nbconvert_exporter": "python",
   "pygments_lexer": "ipython3",
   "version": "3.11.4"
  }
 },
 "nbformat": 4,
 "nbformat_minor": 2
}
