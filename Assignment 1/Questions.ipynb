{
 "cells": [
  {
   "cell_type": "code",
   "execution_count": 1,
   "metadata": {},
   "outputs": [],
   "source": [
    "import numpy as np\n",
    "import matplotlib.pyplot as plt\n",
    "from models.black_scholes import Black_scholes\n",
    "from models.binary_tree import Binary_Tree"
   ]
  },
  {
   "cell_type": "markdown",
   "metadata": {},
   "source": [
    "## Part I"
   ]
  },
  {
   "cell_type": "markdown",
   "metadata": {},
   "source": [
    "### Question 1"
   ]
  },
  {
   "cell_type": "markdown",
   "metadata": {},
   "source": [
    "1. In theory, continuous compounding means that an account will be compounding interest\n",
    "over an infinite number of periods per year, which is continuously added into the balance.\n",
    "Prove that an amount C invested in the money-market at continuous compounding has a\n",
    "value of C × er∆t after a period ∆t."
   ]
  },
  {
   "cell_type": "markdown",
   "metadata": {},
   "source": [
    "For a period n we can write the compounding as: \n",
    "\n",
    "\\begin{equation}\n",
    "C \\left(1 + \\frac{r}{n}\\right)^{nt}\n",
    "\\end{equation}\n",
    "\n",
    "If we consider infinite steps we get ${n \\to \\infty}$:\n",
    "\\begin{equation}\n",
    "\\lim_{{n \\to \\infty}} C \\left(1 + \\frac{r}{n}\\right)^{nt}\n",
    "\\end{equation}\n",
    "In addition, we know that  $e^x$ by definition:\n",
    "\n",
    "\\begin{equation}\n",
    "    \\lim_{{n' \\to \\infty}}(1 + \\frac{x}{n'})^{n'}\n",
    "\\end{equation}\n",
    "If we consider $n' = n*t$, we get that:\n",
    "\n",
    "\\begin{equation}\n",
    "\\lim_{{n \\to \\infty}} C \\left(1 + \\frac{r*t}{n*t}\\right)^{n*t}\n",
    "\\end{equation}\n",
    "\n",
    "Thus, considering $x = r*t$ and following the definition of number e, we obtain:\n",
    "\n",
    "\\begin{equation}\n",
    "\\lim_{{n \\to \\infty}} C \\left(1 + \\frac{r*t}{n*t}\\right)^{n*t} = C*e^{r*t}\n",
    "\\end{equation}\n"
   ]
  },
  {
   "cell_type": "markdown",
   "metadata": {},
   "source": [
    "### Question 2"
   ]
  },
  {
   "cell_type": "markdown",
   "metadata": {},
   "source": [
    "2. Consider a coupon bond with a principal of e50.000, a maturity of 2 years and quarterly\n",
    "(i.e. every 3 months) coupons of e300. Assume that the money-market has a risk-free\n",
    "rate of 1.5% at continuous compounding. Calculate the fair-value of this coupon bond."
   ]
  },
  {
   "cell_type": "markdown",
   "metadata": {},
   "source": [
    "If we consider a coupon bond, and we want the fair value, we obtain the value at maturity minus the total value.\n",
    "First, we consider the initial lend with interest at time T (2 years). Following the equation:\n",
    "\\begin{equation}\n",
    "    Issued-value(T) = 50.000*e^{0.015*2} = 51522.73 eu.\n",
    "\\end{equation}\n",
    "\n",
    "Then, considering interest rates, the coupons returns, knowing that 8 coupons are issued in total every 3 months/0.25 years. The total cost can be as:\n",
    "\\begin{equation}\n",
    "    Coupons(T) = \\sum_{i=1}^{8} 300 \\cdot e^{r \\cdot (2 - 0.25 \\cdot i)}  = 6748.39 eu.\n",
    "\\end{equation}\n",
    "\n",
    "Lastly, the returned 50.000 are interest free, since they are returned at time T. So, the fair-value of the coupon bond is:\n",
    "\n",
    "\\begin{equation}\n",
    "    Fair-value = Returned-value + Coupons(T) - Issued-value\n",
    "\\end{equation}\n",
    "Subsisting:\n",
    "\n",
    "\\begin{equation}\n",
    "    Fair-value = 50.000 + 6748.39 - 52522.73 = 4225.66 eu..\n",
    "\\end{equation}"
   ]
  },
  {
   "cell_type": "markdown",
   "metadata": {},
   "source": [
    "### Question 3"
   ]
  },
  {
   "cell_type": "markdown",
   "metadata": {},
   "source": [
    "3. Use the no-arbitrage principle to argue that the forward price of a contract at time zero\n",
    "is equal to $F_o = S_o*e^{rT}$ ."
   ]
  },
  {
   "cell_type": "markdown",
   "metadata": {},
   "source": [
    "The forward price for a contract is the delivery  price that would be applicable to the contract if were negotiated today (i.e., it is the delivery price that would make the contract worth 0 exactly zero).\n",
    "\n",
    "By that definition, the forward price must be equal to the price of the Stock at time T ($S_o*e^{r*t}$) in a risk-free. \n",
    "\n",
    "If, the equality did not hold (Ej.: $F_o > S_o \\cdot e^{r \\cdot t}$), we could borrow the stock at $S_o$ and enter a short position on the forward contract. Then, at maturity, we sell the stock for $S_o \\cdot e^{r \\cdot t}$ (risk-free market) to the long position holder. The value of the forward contract will be $F_o - S_o \\cdot e^{r \\cdot t}$, thus, the contract at maturity will not be 0, and, the short position will have a profit (returns $S_o \\cdot e^{r \\cdot t}$, but gains $F_o$), being and arbitrage opportunity.\n"
   ]
  },
  {
   "cell_type": "markdown",
   "metadata": {},
   "source": [
    "### Question 4"
   ]
  },
  {
   "cell_type": "markdown",
   "metadata": {},
   "source": [
    "4. Draw the pay-off diagrams for both portfolios, showing the profit at maturity as a function\n",
    "of ST . Explain the figures."
   ]
  },
  {
   "cell_type": "markdown",
   "metadata": {},
   "source": []
  },
  {
   "cell_type": "markdown",
   "metadata": {},
   "source": [
    "### Question 5 (Need to revise a lot, struggling with it)"
   ]
  },
  {
   "cell_type": "markdown",
   "metadata": {},
   "source": [
    "5. Use the no-arbitrage principle to argue that for t ∈ [0, T ] the following relation, known as\n",
    "the put-call parity, must hold:\n",
    "$C_t + e^{−r(T −t)}*K = P_t + S_t$"
   ]
  },
  {
   "cell_type": "markdown",
   "metadata": {},
   "source": [
    "In case of the equality nol holding, Ej.: $C_t + e^{−r(T −t)}*K > P_t + S_t$, we could enter a put option at strike price K and borrow $S_t$.\n",
    "\n",
    "At maturity, if the call is successful, the equation takes the form of $(S_T-K) + K > S_T$. Then, the we get the inequality of $S_T>S_T$, thus, their price equality must hold"
   ]
  },
  {
   "cell_type": "markdown",
   "metadata": {},
   "source": [
    "## Part II\n"
   ]
  },
  {
   "cell_type": "markdown",
   "metadata": {},
   "source": [
    "### Question 1"
   ]
  },
  {
   "cell_type": "markdown",
   "metadata": {},
   "source": [
    "1. Write a binomial tree program to approximate the price of the option. To help you get\n",
    "started, you can use the instructions, templates and hints provided in appendix B. Con-\n",
    "struct a tree with 50 steps and explicitly state your option price approximation in the\n",
    "report."
   ]
  },
  {
   "cell_type": "code",
   "execution_count": 2,
   "metadata": {},
   "outputs": [
    {
     "name": "stdout",
     "output_type": "stream",
     "text": [
      "Option price is : 4.78 $\n"
     ]
    }
   ],
   "source": [
    "vol = 0.2\n",
    "S = 100\n",
    "T = 1.\n",
    "N = 50\n",
    "r = 0.06\n",
    "K = 99\n",
    "binary = Binary_Tree(S,r,vol,T,N,K)\n",
    "print(F\"Option price is : {np.round(binary.v_tree_european[0,0],2)} $\")"
   ]
  },
  {
   "cell_type": "markdown",
   "metadata": {},
   "source": [
    "### Question 2"
   ]
  },
  {
   "cell_type": "markdown",
   "metadata": {},
   "source": [
    "2. Investigate how your binomial tree estimate compares to the analytical Black-Scholes value\n",
    "of the option. Do experiments for different values of the volatility. The Black-Scholes\n",
    "formula for European option prices is treated in appendix C: please read that carefully."
   ]
  },
  {
   "cell_type": "code",
   "execution_count": 6,
   "metadata": {},
   "outputs": [
    {
     "name": "stderr",
     "output_type": "stream",
     "text": [
      "c:\\Users\\joann\\OneDrive\\Escritorio\\Intro\\Computational-Finance\\Assignment 1\\models\\binary_tree.py:66: RuntimeWarning: divide by zero encountered in scalar divide\n",
      "  p= (np.exp(self.r*self.dt) - d)/(u-d)\n",
      "c:\\Users\\joann\\OneDrive\\Escritorio\\Intro\\Computational-Finance\\Assignment 1\\models\\binary_tree.py:86: RuntimeWarning: invalid value encountered in scalar add\n",
      "  v_tree_european[i , j ] = np.exp(-self.r*self.dt)*(p*european_up + (1-p)*european_down)\n",
      "c:\\Users\\joann\\OneDrive\\Escritorio\\Intro\\Computational-Finance\\Assignment 1\\models\\binary_tree.py:88: RuntimeWarning: invalid value encountered in scalar add\n",
      "  v_tree_american[i,j] = max(np.exp(-self.r*self.dt)*(p*american_up + (1-p)*american_down), self.tree[i,j]-self.K)\n",
      "c:\\Users\\joann\\OneDrive\\Escritorio\\Intro\\Computational-Finance\\Assignment 1\\models\\binary_tree.py:90: RuntimeWarning: invalid value encountered in scalar multiply\n",
      "  v_tree_american_put[i,j] = max(np.exp(-self.r*self.dt)*(p*american_up_put + (1-p)*american_down_put), self.K - self.tree[i,j])\n",
      "c:\\Users\\joann\\OneDrive\\Escritorio\\Intro\\Computational-Finance\\Assignment 1\\models\\black_scholes.py:174: RuntimeWarning: divide by zero encountered in divide\n",
      "  d1s = (np.log(St/self.K) + (self.r + 0.5*(vol_hedge**2)*self.taos))/(self.vol*np.sqrt(self.taos))\n",
      "c:\\Users\\joann\\OneDrive\\Escritorio\\Intro\\Computational-Finance\\Assignment 1\\models\\black_scholes.py:156: RuntimeWarning: divide by zero encountered in scalar divide\n",
      "  self.delta = norm.cdf((np.log(self.ex_St[0]/self.K) +  (self.r + 0.5*(self.vol**2))*(self.T))/(self.vol*np.sqrt(self.T)))\n",
      "c:\\Users\\joann\\OneDrive\\Escritorio\\Intro\\Computational-Finance\\Assignment 1\\models\\black_scholes.py:98: RuntimeWarning: divide by zero encountered in divide\n",
      "  d1s = (np.log(self.eu_St/self.K) + (self.r + 0.5*(vol_hedge**2)*self.taos))/(vol_hedge*np.sqrt(self.taos))\n"
     ]
    },
    {
     "name": "stdout",
     "output_type": "stream",
     "text": [
      "[       nan 1.00000966 1.00050775 0.99990909 0.99935097 0.99911824\n",
      " 0.99911309 0.99923499 0.99942097 0.99963523 0.99985803 1.00007869\n",
      " 1.00029162 1.00049412 1.0006851  1.00086437 1.00103223 1.00118924\n",
      " 1.00133608 1.00147347 1.00160213 1.00172274 1.00183593 1.00194231\n",
      " 1.00204242 1.00213675 1.00222577 1.00230988 1.00238945 1.00246483\n",
      " 1.00253633 1.00260421 1.00266875 1.00273016 1.00278867 1.00284446\n",
      " 1.0028977  1.00294856 1.00299719 1.00304371 1.00308826 1.00313094\n",
      " 1.00317186 1.00321112 1.00324881 1.003285   1.00331977 1.00335319\n",
      " 1.00338533 1.00341624]\n"
     ]
    }
   ],
   "source": [
    "vols = np.linspace(0,1,num = 50)\n",
    "S = 100\n",
    "T = 1.\n",
    "N = 50\n",
    "r = 0.06\n",
    "K = 99\n",
    "binary_trees = np.vectorize(Binary_Tree, excluded=['S','r','T','N','K'])(S,r,vols,T,N,K)\n",
    "black_scholes = np.vectorize(Black_scholes, excluded=['S','r','T','N','K'])(S,r,vols,T,N,K)\n",
    "v_binary_trees = np.vectorize(lambda x: x.v_tree_european[0,0])(binary_trees)\n",
    "v_black_scholes = np.vectorize(lambda x: x.ex_Vt[0])(black_scholes)\n",
    "plt.plot(vols,v_black_scholes, label = \"Black scholes\")\n",
    "plt.plot(vols, v_binary_trees, label = \"Binomial tree\")\n",
    "plt.xlabel(\"Volatility\")\n",
    "plt.ylabel(\"Call option price\")\n",
    "plt.legend()\n",
    "plt.show()\n",
    "\n",
    "print(v_black_scholes/v_binary_trees)"
   ]
  },
  {
   "cell_type": "markdown",
   "metadata": {},
   "source": [
    "### Question 3"
   ]
  },
  {
   "cell_type": "markdown",
   "metadata": {},
   "source": [
    "3. Study the convergence of the method for increasing number of steps in the tree. What is\n",
    "the computational complexity of this algorithm as a function of the number of steps in the\n",
    "tree?\n"
   ]
  },
  {
   "cell_type": "code",
   "execution_count": 7,
   "metadata": {},
   "outputs": [],
   "source": [
    "vol = 0.20\n",
    "S = 100\n",
    "T = 1.\n",
    "N = np.linspace(1,365,num = 365, dtype= int)\n",
    "r = 0.06\n",
    "K = 99\n",
    "binary_trees = np.vectorize(Binary_Tree, excluded=['S','r','vol','T','K'])(S,r,vol,T,N,K)\n",
    "v_binary_trees = np.vectorize(lambda x: x.v_tree_european[0,0])(binary_trees)\n"
   ]
  },
  {
   "cell_type": "code",
   "execution_count": null,
   "metadata": {},
   "outputs": [],
   "source": [
    "plt.plot(N, v_binary_trees, label = \"Binomial tree\")\n",
    "plt.xlabel(\"Number of periods (N)\")\n",
    "plt.ylabel(\"Call option value at T = 0 (Co)\")\n",
    "plt.legend()\n",
    "plt.show()"
   ]
  },
  {
   "cell_type": "code",
   "execution_count": 58,
   "metadata": {},
   "outputs": [],
   "source": [
    "v_error = np.copy(v_binary_trees)\n",
    "for i in range(1,len(v_binary_trees)):\n",
    "    v_error[i] = np.abs(v_binary_trees[i]-v_binary_trees[i-1])\n",
    "\n",
    "plt.loglog(N, v_error, label = \"Binomial tree\")\n",
    "plt.xlabel(\"log Number of periods (N)\")\n",
    "plt.ylabel(\"log Call option difference at T = t and T= t+1 (Co)\")\n",
    "plt.legend()\n",
    "plt.show()"
   ]
  },
  {
   "cell_type": "markdown",
   "metadata": {},
   "source": [
    "$O(n^2)$ complexity, for every n added"
   ]
  },
  {
   "cell_type": "markdown",
   "metadata": {},
   "source": [
    "### Question 4\n"
   ]
  },
  {
   "cell_type": "markdown",
   "metadata": {},
   "source": [
    "4. Compute the hedge parameter ∆ from the binomial tree model at t = 0. Compare with\n",
    "the analytical Black-Scholes delta ∆0 = N(d1). Experiment for different values of the\n",
    "volatility."
   ]
  },
  {
   "cell_type": "code",
   "execution_count": 32,
   "metadata": {},
   "outputs": [
    {
     "name": "stderr",
     "output_type": "stream",
     "text": [
      "c:\\Users\\joann\\OneDrive\\Escritorio\\Intro\\Computational-Finance\\Assignment 1\\models\\binary_tree.py:65: RuntimeWarning: divide by zero encountered in scalar divide\n",
      "  p= (np.exp(self.r*self.dt) - d)/(u-d)\n",
      "c:\\Users\\joann\\OneDrive\\Escritorio\\Intro\\Computational-Finance\\Assignment 1\\models\\binary_tree.py:84: RuntimeWarning: invalid value encountered in scalar add\n",
      "  v_tree_european[i , j ] = np.exp(-self.r*self.dt)*(p*european_up + (1-p)*european_down)\n",
      "c:\\Users\\joann\\OneDrive\\Escritorio\\Intro\\Computational-Finance\\Assignment 1\\models\\binary_tree.py:86: RuntimeWarning: invalid value encountered in scalar add\n",
      "  v_tree_american[i,j] = np.maximum(np.exp(-self.r*self.dt)*(p*american_up + (1-p)*american_down), self.tree[i,j]-self.K)\n",
      "c:\\Users\\joann\\OneDrive\\Escritorio\\Intro\\Computational-Finance\\Assignment 1\\models\\black_scholes.py:174: RuntimeWarning: divide by zero encountered in divide\n",
      "  d1s = (np.log(St/self.K) + (self.r + 0.5*(vol_hedge**2)*self.taos))/(self.vol*np.sqrt(self.taos))\n",
      "c:\\Users\\joann\\OneDrive\\Escritorio\\Intro\\Computational-Finance\\Assignment 1\\models\\black_scholes.py:156: RuntimeWarning: divide by zero encountered in scalar divide\n",
      "  self.delta = norm.cdf((np.log(self.ex_St[0]/self.K) +  (self.r + 0.5*(self.vol**2))*(self.T))/(self.vol*np.sqrt(self.T)))\n"
     ]
    }
   ],
   "source": [
    "vols = np.linspace(0,1,num = 50)\n",
    "S = 100\n",
    "T = 1.\n",
    "N = 50\n",
    "r = 0.06\n",
    "K = 99\n",
    "\n",
    "binary_trees = np.vectorize(Binary_Tree, excluded=['S','r','T','N','K'])(S,r,vols,T,N,K)\n",
    "black_scholes = np.vectorize(Black_scholes, excluded=['S','r','T','N','K'])(S,r,vols,T,N,K)\n",
    "\n",
    "v_binary_trees = np.vectorize(lambda x: x.delta)(binary_trees)\n",
    "v_black_scholes = np.vectorize(lambda x: x.delta)(black_scholes)\n",
    "\n",
    "plt.plot(vols,v_black_scholes, label = \"Black scholes\")\n",
    "plt.plot(vols, v_binary_trees, label = \"Binomial tree\")\n",
    "plt.xlabel(\"Volatility\")\n",
    "plt.ylabel(\"Hedge parameter\")\n",
    "plt.legend()\n",
    "plt.show()\n",
    "\n",
    "\n",
    "## Memory cleaning\n",
    "del binary_trees, black_scholes, v_binary_trees, v_black_scholes"
   ]
  },
  {
   "cell_type": "markdown",
   "metadata": {},
   "source": [
    "### Question 5"
   ]
  },
  {
   "cell_type": "markdown",
   "metadata": {},
   "source": []
  },
  {
   "cell_type": "markdown",
   "metadata": {},
   "source": [
    "## Part III"
   ]
  },
  {
   "cell_type": "markdown",
   "metadata": {},
   "source": [
    "### Question 1"
   ]
  },
  {
   "cell_type": "markdown",
   "metadata": {},
   "source": [
    "1. Let Ct denote the risk-neutral price of a European call option in the Black-Scholes model.\n",
    "The delta-parameter is defined as ∆t := ∂Ct\n",
    "∂St . Show that in the Black-Scholes model\n",
    "∆t = N (d1)."
   ]
  },
  {
   "cell_type": "markdown",
   "metadata": {},
   "source": [
    "From Black scholes formula we know that the price of an european call option at time t is:\n",
    "\n",
    "\\begin{equation}\n",
    "    V(t) = S_t \\cdot N(d_1) - e^{-r \\cdot \\tau} \\cdot K \\cdot N(d_2) = C_t\n",
    "\\end{equation}\n",
    "\n",
    "Then, if we do $dC_t/dS_t$ we obtain:\n",
    "\n",
    "\\begin{equation}\n",
    "    \\frac{∂V(t)}{∂S_t} = \\frac{∂C_t}{∂S_t} = N(d_1)\n",
    "\\end{equation}\n",
    "\n"
   ]
  },
  {
   "cell_type": "markdown",
   "metadata": {},
   "source": [
    "### Question 2"
   ]
  },
  {
   "cell_type": "markdown",
   "metadata": {},
   "source": [
    "2. Let Pt denote the risk-neutral price of a European put option. Use the put-call parity and the call option price given in appendix C, to show that Pt is given by\n",
    "Pt = e−rτ KN (−d2) − StN (−d1)"
   ]
  },
  {
   "cell_type": "markdown",
   "metadata": {},
   "source": [
    "From Black scholes formula we know that $C_t$ is:\n",
    "\n",
    "\\begin{equation}\n",
    "    V(t) = S_t \\cdot N(d_1) - e^{-r \\cdot \\tau} \\cdot K \\cdot N(d_2) = C_t\n",
    "\\end{equation}\n",
    "\n",
    "Inserting into the put-call parity and isolating $P_t$ we get:\n",
    "\n",
    "\\begin{equation}\n",
    "    \\begin{aligned}\n",
    "    S_t \\cdot N(d_1) - e^{-r \\cdot \\tau} \\cdot K  \\cdot N(d_2) + e^{-r \\cdot \\tau} \\cdot K = P_t + S_t\n",
    "    \\\\\n",
    "    P_t =  e^{-r \\cdot \\tau} \\cdot K \\cdot (N(d_2)-1) -S_t \\cdot (N(d_1) -1 )\n",
    "    \\end{aligned}\n",
    "\\end{equation}\n",
    "\n",
    "Since $N(d)$ is the cumulative distribution function (CDF) of a standard normal equation, or, the probability $P(X<d)$ Thus $1- N(d)$ can be defined as $P(x>d)$, given that the standard normal distribution is symmetric, the probability can be described as $P(x>d) = P(X<-d) = N(-d)$. Thus, substituting $(1-N(d_1)) = N(-d_1)$ and $(1-N(d_2)) = N(-d_2)$ we obtain:\n",
    "\n",
    "\\begin{equation}\n",
    "    \\begin{aligned}\n",
    "    P_t =  e^{-r \\cdot \\tau} \\cdot K \\cdot N(-d_2) -S_t \\cdot N(-d_1)S\n",
    "    \\end{aligned}\n",
    "\\end{equation}"
   ]
  },
  {
   "cell_type": "markdown",
   "metadata": {},
   "source": [
    "### Question 3"
   ]
  },
  {
   "cell_type": "markdown",
   "metadata": {},
   "source": [
    "Consider again a short position in a European call option on a non-dividend-paying stock with\n",
    "a maturity of one year and strike price K of e99. Let the one year interest rate be 6% and the\n",
    "current price of the stock be e100. Furthermore, assume that the volatility is 20%.\n",
    "\n",
    "\n",
    "3. Use the Euler method to perform a hedging simulation. Do an experiment where the\n",
    "volatility in the stock price process is matching the volatility used in the delta computation\n",
    "(set both equal to 20%). Vary the frequency of the hedge adjustment (from daily to weekly)\n",
    "and explain the results. Perform numerical experiments where the volatility in the stock\n",
    "price process is not matching the volatility used in the delta valuation. Experiment for\n",
    "various levels and explain the results"
   ]
  },
  {
   "cell_type": "code",
   "execution_count": 2,
   "metadata": {},
   "outputs": [],
   "source": [
    "K = 99\n",
    "S = 100\n",
    "r = 0.06\n",
    "T = 1\n",
    "vol_stock = 0.2"
   ]
  },
  {
   "cell_type": "markdown",
   "metadata": {},
   "source": [
    "#### Experiment 1: V_hedge = V_stock"
   ]
  },
  {
   "cell_type": "code",
   "execution_count": 6,
   "metadata": {},
   "outputs": [],
   "source": [
    "    vol = 0.2\n",
    "    S = 100\n",
    "    T = 1.\n",
    "    N = 364\n",
    "    r = 0.06\n",
    "    K = 99\n",
    "    black_scholes_d = Black_scholes(S,r,vol,T,N,K, auto = True)\n",
    "    black_scholes_d.euler_hedging(do_cash = True)\n",
    "    fig,axs = plt.subplots(2)\n",
    "\n",
    "    axs[0].plot(np.linspace(1,365, num = 365),black_scholes_d.eu_St, label = \"Stock price\")\n",
    "    axs[0].set_xlabel(\"Time\")\n",
    "    axs[0].set_ylabel(\"Stock price\")\n",
    "    axs[0].legend()\n",
    "\n",
    "    axs[1].plot(np.linspace(1,365, num = 52),black_scholes_d.cash_weekly, label = \"Weekly adjustment\")\n",
    "    axs[1].plot(np.linspace(1,365, num = 365),black_scholes_d.cash_daily, label = \"Daily adjustment\")\n",
    "    axs[1].set_xlabel(\"Time\")\n",
    "    axs[1].set_ylabel(\"Portfolio value\")\n",
    "    axs[1].legend()\n",
    "    plt.show()"
   ]
  },
  {
   "cell_type": "markdown",
   "metadata": {},
   "source": [
    "#### Experiment 2: V_hedge /= V_stock"
   ]
  },
  {
   "cell_type": "code",
   "execution_count": 32,
   "metadata": {},
   "outputs": [],
   "source": [
    "N = 364\n",
    "K = 99\n",
    "S = 100\n",
    "r = 0.06\n",
    "T = 1\n",
    "vol_stock = 0.2\n",
    "black_scholes = Black_scholes(S,r,vol_stock, T,N, K, auto = False)\n",
    "black_scholes.euler_method()"
   ]
  },
  {
   "cell_type": "code",
   "execution_count": 33,
   "metadata": {},
   "outputs": [],
   "source": [
    "vols_hedge = np.linspace(0,0.99 ,num = 5)\n",
    "fig,axs = plt.subplots(1,2,figsize = (12,3))\n",
    "\n",
    "for v in vols_hedge:\n",
    "    black_scholes.euler_hedging(vol_hedge = v, do_cash=True)\n",
    "    axs[0].plot(black_scholes.cash_daily, label = f\"Daily adjustment:vol hedge {np.round(v,2)*100} %\")\n",
    "    axs[1].plot(black_scholes.cash_weekly, label = f\"Weekly adjustment:vol hedge {np.round(v,2)*100} %\")\n",
    "\n",
    "axs[0].set_xlabel(\"Time (days)\")\n",
    "axs[0].set_ylabel(\"Portfolio Value ($)\")\n",
    "axs[0].legend()\n",
    "axs[1].set_xlabel(\"Time (weeks)\")\n",
    "axs[1].set_ylabel(\"Portfolio Value ($)\")\n",
    "axs[1].legend()\n",
    "plt.show()"
   ]
  },
  {
   "cell_type": "markdown",
   "metadata": {},
   "source": []
  },
  {
   "cell_type": "code",
   "execution_count": 21,
   "metadata": {},
   "outputs": [],
   "source": [
    "plt.plot(black_scholes.eu_St, label = \"Stock price\")\n",
    "plt.xlabel(\"Time (days)\")\n",
    "plt.ylabel(\"Stock price ($)\")\n",
    "plt.legend()\n",
    "plt.show()"
   ]
  },
  {
   "cell_type": "code",
   "execution_count": 23,
   "metadata": {},
   "outputs": [],
   "source": [
    "vols_hedge = np.linspace(0,0.99 ,num = 5)\n",
    "fig,axs = plt.subplots(1,2,figsize = (12,3))\n",
    "\n",
    "for v in vols_hedge:\n",
    "    black_scholes.euler_hedging(vol_hedge = v, do_cash=True)\n",
    "    axs[0].plot(black_scholes.cash_daily, label = f\"Daily adjustment:vol hedge {np.round(v,2)*100} %\")\n",
    "    axs[1].plot(black_scholes.cash_weekly, label = f\"Weekly adjustment:vol hedge {np.round(v,2)*100} %\")\n",
    "\n",
    "axs[0].set_xlabel(\"Time (days)\")\n",
    "axs[0].set_ylabel(\"Portfolio Value ($)\")\n",
    "axs[0].legend()\n",
    "axs[1].set_xlabel(\"Time (weeks)\")\n",
    "axs[1].set_ylabel(\"Portfolio Value ($)\")\n",
    "axs[1].legend()\n",
    "plt.show()\n"
   ]
  },
  {
   "cell_type": "code",
   "execution_count": 17,
   "metadata": {},
   "outputs": [
    {
     "ename": "NameError",
     "evalue": "name 'hedge_simulations_eu' is not defined",
     "output_type": "error",
     "traceback": [
      "\u001b[1;31m---------------------------------------------------------------------------\u001b[0m",
      "\u001b[1;31mNameError\u001b[0m                                 Traceback (most recent call last)",
      "Cell \u001b[1;32mIn[17], line 9\u001b[0m\n\u001b[0;32m      6\u001b[0m vol_stock \u001b[38;5;241m=\u001b[39m \u001b[38;5;241m0.2\u001b[39m\n\u001b[0;32m      7\u001b[0m vol_hedge \u001b[38;5;241m=\u001b[39m \u001b[38;5;241m0.1\u001b[39m\n\u001b[1;32m----> 9\u001b[0m stock_prices, delta_values, cash_values \u001b[38;5;241m=\u001b[39m hedge_simulations_eu(S,r,vol_stock,vol_hedge, T,N,K)\n",
      "\u001b[1;31mNameError\u001b[0m: name 'hedge_simulations_eu' is not defined"
     ]
    }
   ],
   "source": [
    "K = 99\n",
    "S = 100\n",
    "r = 0.06\n",
    "T = 1\n",
    "N = 365\n",
    "vol_stock = 0.2\n",
    "vol_hedge = 0.1\n",
    "\n",
    "stock_prices, delta_values, cash_values = hedge_simulations_eu(S,r,vol_stock,vol_hedge, T,N,K)"
   ]
  },
  {
   "cell_type": "code",
   "execution_count": 84,
   "metadata": {},
   "outputs": [],
   "source": [
    "for r,c in enumerate(stock_prices):\n",
    "    if r%10 == 0:\n",
    "        plt.plot(c)\n",
    "\n",
    "plt.show()"
   ]
  },
  {
   "cell_type": "code",
   "execution_count": 87,
   "metadata": {},
   "outputs": [
    {
     "ename": "ValueError",
     "evalue": "x, y, and format string must not be None",
     "output_type": "error",
     "traceback": [
      "\u001b[1;31m---------------------------------------------------------------------------\u001b[0m",
      "\u001b[1;31mValueError\u001b[0m                                Traceback (most recent call last)",
      "Cell \u001b[1;32mIn[87], line 3\u001b[0m\n\u001b[0;32m      1\u001b[0m \u001b[38;5;28;01mfor\u001b[39;00m r,c \u001b[38;5;129;01min\u001b[39;00m \u001b[38;5;28menumerate\u001b[39m(cash_values):\n\u001b[0;32m      2\u001b[0m     \u001b[38;5;28;01mif\u001b[39;00m r\u001b[38;5;241m%\u001b[39m\u001b[38;5;241m10\u001b[39m \u001b[38;5;241m==\u001b[39m \u001b[38;5;241m0\u001b[39m:\n\u001b[1;32m----> 3\u001b[0m         plt\u001b[38;5;241m.\u001b[39mplot(c)\n\u001b[0;32m      5\u001b[0m plt\u001b[38;5;241m.\u001b[39mshow()\n",
      "File \u001b[1;32mc:\\Users\\joann\\anaconda3\\Lib\\site-packages\\matplotlib\\pyplot.py:2812\u001b[0m, in \u001b[0;36mplot\u001b[1;34m(scalex, scaley, data, *args, **kwargs)\u001b[0m\n\u001b[0;32m   2810\u001b[0m \u001b[38;5;129m@_copy_docstring_and_deprecators\u001b[39m(Axes\u001b[38;5;241m.\u001b[39mplot)\n\u001b[0;32m   2811\u001b[0m \u001b[38;5;28;01mdef\u001b[39;00m \u001b[38;5;21mplot\u001b[39m(\u001b[38;5;241m*\u001b[39margs, scalex\u001b[38;5;241m=\u001b[39m\u001b[38;5;28;01mTrue\u001b[39;00m, scaley\u001b[38;5;241m=\u001b[39m\u001b[38;5;28;01mTrue\u001b[39;00m, data\u001b[38;5;241m=\u001b[39m\u001b[38;5;28;01mNone\u001b[39;00m, \u001b[38;5;241m*\u001b[39m\u001b[38;5;241m*\u001b[39mkwargs):\n\u001b[1;32m-> 2812\u001b[0m     \u001b[38;5;28;01mreturn\u001b[39;00m gca()\u001b[38;5;241m.\u001b[39mplot(\n\u001b[0;32m   2813\u001b[0m         \u001b[38;5;241m*\u001b[39margs, scalex\u001b[38;5;241m=\u001b[39mscalex, scaley\u001b[38;5;241m=\u001b[39mscaley,\n\u001b[0;32m   2814\u001b[0m         \u001b[38;5;241m*\u001b[39m\u001b[38;5;241m*\u001b[39m({\u001b[38;5;124m\"\u001b[39m\u001b[38;5;124mdata\u001b[39m\u001b[38;5;124m\"\u001b[39m: data} \u001b[38;5;28;01mif\u001b[39;00m data \u001b[38;5;129;01mis\u001b[39;00m \u001b[38;5;129;01mnot\u001b[39;00m \u001b[38;5;28;01mNone\u001b[39;00m \u001b[38;5;28;01melse\u001b[39;00m {}), \u001b[38;5;241m*\u001b[39m\u001b[38;5;241m*\u001b[39mkwargs)\n",
      "File \u001b[1;32mc:\\Users\\joann\\anaconda3\\Lib\\site-packages\\matplotlib\\axes\\_axes.py:1688\u001b[0m, in \u001b[0;36mAxes.plot\u001b[1;34m(self, scalex, scaley, data, *args, **kwargs)\u001b[0m\n\u001b[0;32m   1445\u001b[0m \u001b[38;5;250m\u001b[39m\u001b[38;5;124;03m\"\"\"\u001b[39;00m\n\u001b[0;32m   1446\u001b[0m \u001b[38;5;124;03mPlot y versus x as lines and/or markers.\u001b[39;00m\n\u001b[0;32m   1447\u001b[0m \n\u001b[1;32m   (...)\u001b[0m\n\u001b[0;32m   1685\u001b[0m \u001b[38;5;124;03m(``'green'``) or hex strings (``'#008000'``).\u001b[39;00m\n\u001b[0;32m   1686\u001b[0m \u001b[38;5;124;03m\"\"\"\u001b[39;00m\n\u001b[0;32m   1687\u001b[0m kwargs \u001b[38;5;241m=\u001b[39m cbook\u001b[38;5;241m.\u001b[39mnormalize_kwargs(kwargs, mlines\u001b[38;5;241m.\u001b[39mLine2D)\n\u001b[1;32m-> 1688\u001b[0m lines \u001b[38;5;241m=\u001b[39m [\u001b[38;5;241m*\u001b[39m\u001b[38;5;28mself\u001b[39m\u001b[38;5;241m.\u001b[39m_get_lines(\u001b[38;5;241m*\u001b[39margs, data\u001b[38;5;241m=\u001b[39mdata, \u001b[38;5;241m*\u001b[39m\u001b[38;5;241m*\u001b[39mkwargs)]\n\u001b[0;32m   1689\u001b[0m \u001b[38;5;28;01mfor\u001b[39;00m line \u001b[38;5;129;01min\u001b[39;00m lines:\n\u001b[0;32m   1690\u001b[0m     \u001b[38;5;28mself\u001b[39m\u001b[38;5;241m.\u001b[39madd_line(line)\n",
      "File \u001b[1;32mc:\\Users\\joann\\anaconda3\\Lib\\site-packages\\matplotlib\\axes\\_base.py:311\u001b[0m, in \u001b[0;36m_process_plot_var_args.__call__\u001b[1;34m(self, data, *args, **kwargs)\u001b[0m\n\u001b[0;32m    309\u001b[0m     this \u001b[38;5;241m+\u001b[39m\u001b[38;5;241m=\u001b[39m args[\u001b[38;5;241m0\u001b[39m],\n\u001b[0;32m    310\u001b[0m     args \u001b[38;5;241m=\u001b[39m args[\u001b[38;5;241m1\u001b[39m:]\n\u001b[1;32m--> 311\u001b[0m \u001b[38;5;28;01myield from\u001b[39;00m \u001b[38;5;28mself\u001b[39m\u001b[38;5;241m.\u001b[39m_plot_args(\n\u001b[0;32m    312\u001b[0m     this, kwargs, ambiguous_fmt_datakey\u001b[38;5;241m=\u001b[39mambiguous_fmt_datakey)\n",
      "File \u001b[1;32mc:\\Users\\joann\\anaconda3\\Lib\\site-packages\\matplotlib\\axes\\_base.py:465\u001b[0m, in \u001b[0;36m_process_plot_var_args._plot_args\u001b[1;34m(self, tup, kwargs, return_kwargs, ambiguous_fmt_datakey)\u001b[0m\n\u001b[0;32m    462\u001b[0m \u001b[38;5;66;03m# Don't allow any None value; these would be up-converted to one\u001b[39;00m\n\u001b[0;32m    463\u001b[0m \u001b[38;5;66;03m# element array of None which causes problems downstream.\u001b[39;00m\n\u001b[0;32m    464\u001b[0m \u001b[38;5;28;01mif\u001b[39;00m \u001b[38;5;28many\u001b[39m(v \u001b[38;5;129;01mis\u001b[39;00m \u001b[38;5;28;01mNone\u001b[39;00m \u001b[38;5;28;01mfor\u001b[39;00m v \u001b[38;5;129;01min\u001b[39;00m tup):\n\u001b[1;32m--> 465\u001b[0m     \u001b[38;5;28;01mraise\u001b[39;00m \u001b[38;5;167;01mValueError\u001b[39;00m(\u001b[38;5;124m\"\u001b[39m\u001b[38;5;124mx, y, and format string must not be None\u001b[39m\u001b[38;5;124m\"\u001b[39m)\n\u001b[0;32m    467\u001b[0m kw \u001b[38;5;241m=\u001b[39m {}\n\u001b[0;32m    468\u001b[0m \u001b[38;5;28;01mfor\u001b[39;00m prop_name, val \u001b[38;5;129;01min\u001b[39;00m \u001b[38;5;28mzip\u001b[39m((\u001b[38;5;124m'\u001b[39m\u001b[38;5;124mlinestyle\u001b[39m\u001b[38;5;124m'\u001b[39m, \u001b[38;5;124m'\u001b[39m\u001b[38;5;124mmarker\u001b[39m\u001b[38;5;124m'\u001b[39m, \u001b[38;5;124m'\u001b[39m\u001b[38;5;124mcolor\u001b[39m\u001b[38;5;124m'\u001b[39m),\n\u001b[0;32m    469\u001b[0m                           (linestyle, marker, color)):\n",
      "\u001b[1;31mValueError\u001b[0m: x, y, and format string must not be None"
     ]
    }
   ],
   "source": [
    "for r,c in enumerate(cash_values):\n",
    "    if r%10 == 0:\n",
    "        plt.plot(c)\n",
    "plt.show()"
   ]
  },
  {
   "cell_type": "code",
   "execution_count": null,
   "metadata": {},
   "outputs": [],
   "source": [
    "def hedge_simulations_eu(S,r,vol_stock, vol_hedge,T,N,K):\n",
    "    black_scholes = Black_scholes(S,r,vol_stock, T,N, K, auto = False)\n",
    "    black_scholes.euler_hedging(vol_hedge = vol_hedge)\n",
    "    stock_prices = np.array([black_scholes.eu_St])\n",
    "    delta_values = np.array([ black_scholes.deltas])\n",
    "    cash_values = np.array([black_scholes.cash])\n",
    "\n",
    "    for _ in range(50):\n",
    "        black_scholes.euler_method()\n",
    "        stock_prices = np.vstack([stock_prices,black_scholes.eu_St])\n",
    "\n",
    "        black_scholes.euler_hedging(vol_hedge = vol_hedge)\n",
    "        delta_values = np.vstack([delta_values, black_scholes.deltas])\n",
    "    \n",
    "    while True:\n",
    "        \n",
    "        if (np.average(np.std(delta_values, axis=0)) <= vol_stock*S):\n",
    "            break\n",
    "\n",
    "        black_scholes.euler_method() \n",
    "        stock_prices = np.vstack([stock_prices,black_scholes.eu_St])\n",
    "\n",
    "        black_scholes.euler_hedging(vol_hedge = vol_hedge, do_cash = True)\n",
    "        delta_values = np.vstack([delta_values, black_scholes.deltas])\n",
    "        cash_values = np.vstack([cash_values, black_scholes.cash])\n",
    "    \n",
    "\n",
    "        if stock_prices.shape[0] >= 2000:\n",
    "            break\n",
    "\n",
    "    return stock_prices, delta_values, cash_values"
   ]
  }
 ],
 "metadata": {
  "kernelspec": {
   "display_name": "base",
   "language": "python",
   "name": "python3"
  },
  "language_info": {
   "codemirror_mode": {
    "name": "ipython",
    "version": 3
   },
   "file_extension": ".py",
   "mimetype": "text/x-python",
   "name": "python",
   "nbconvert_exporter": "python",
   "pygments_lexer": "ipython3",
   "version": "3.11.4"
  }
 },
 "nbformat": 4,
 "nbformat_minor": 2
}
